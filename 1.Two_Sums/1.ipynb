{
 "cells": [
  {
   "cell_type": "code",
   "execution_count": null,
   "id": "bc46cfb0",
   "metadata": {},
   "outputs": [
    {
     "data": {
      "text/plain": [
       "'Given an array of integers nums and an integer target, return indices of the two numbers such that they add up to target.\\n\\nYou may assume that each input would have exactly one solution, and you may not use the same element twice.\\n\\nYou can return the answer in any order.\\n\\n\\n\\nExample 1:\\n\\nInput: nums = [2,7,11,15], target = 9\\nOutput: [0,1]\\nExplanation: Because nums[0] + nums[1] == 9, we return [0, 1].\\nExample 2:\\n\\nInput: nums = [3,2,4], target = 6\\nOutput: [1,2]\\nExample 3:\\n\\nInput: nums = [3,3], target = 6\\nOutput: [0,1]\\n\\n\\nConstraints:\\n\\n2 <= nums.length <= 104\\n-109 <= nums[i] <= 109\\n-109 <= target <= 109\\nOnly one valid answer exists.\\n\\n\\nFollow-up: Can you come up with an algorithm that is less than O(n2) time complexity?\\n'"
      ]
     },
     "execution_count": 1,
     "metadata": {},
     "output_type": "execute_result"
    }
   ],
   "source": [
    "\"\"\"Given an array of integers nums and an integer target, return indices of the two numbers such that they add up to target.\n",
    "\n",
    "You may assume that each input would have exactly one solution, and you may not use the same element twice.\n",
    "\n",
    "You can return the answer in any order.\n",
    "\n",
    " \n",
    "\n",
    "Example 1:\n",
    "\n",
    "Input: nums = [2,7,11,15], target = 9\n",
    "Output: [0,1]\n",
    "Explanation: Because nums[0] + nums[1] == 9, we return [0, 1].\n",
    "Example 2:\n",
    "\n",
    "Input: nums = [3,2,4], target = 6\n",
    "Output: [1,2]\n",
    "Example 3:\n",
    "\n",
    "Input: nums = [3,3], target = 6\n",
    "Output: [0,1]\n",
    " \n",
    "\n",
    "Constraints:\n",
    "\n",
    "2 <= nums.length <= 104\n",
    "-109 <= nums[i] <= 109\n",
    "-109 <= target <= 109\n",
    "Only one valid answer exists.\n",
    " \n",
    "\n",
    "Follow-up: Can you come up with an algorithm that is less than O(n2) time complexity?\n",
    "\"\"\""
   ]
  },
  {
   "cell_type": "code",
   "execution_count": 2,
   "id": "ce5572ab",
   "metadata": {},
   "outputs": [],
   "source": [
    "# Brute force approach .Complexity O(n^2)"
   ]
  },
  {
   "cell_type": "code",
   "execution_count": 4,
   "id": "421e9adf",
   "metadata": {},
   "outputs": [
    {
     "name": "stdout",
     "output_type": "stream",
     "text": [
      "[1, 2]\n"
     ]
    }
   ],
   "source": [
    "# nums = [2,7,11,15]\n",
    "# target = 9\n",
    "\n",
    "nums = [3,2,4]\n",
    "target = 6\n",
    "\n",
    "\n",
    "def twoSum(nums,target):\n",
    "    for i in range(len(nums)):\n",
    "        for j in range(i+1,len(nums)):\n",
    "            if nums[i]+nums[j]==target:\n",
    "                return [i,j]\n",
    "    return []\n",
    "\n",
    "print(twoSum(nums,target))"
   ]
  },
  {
   "cell_type": "code",
   "execution_count": null,
   "id": "82588e70",
   "metadata": {},
   "outputs": [],
   "source": [
    "#optimized one using dictionary to store previously visited values along with indexes as key value pairs.It does everything in one loop i.e in one go.\n"
   ]
  },
  {
   "cell_type": "code",
   "execution_count": 7,
   "id": "d6d8c42c",
   "metadata": {},
   "outputs": [
    {
     "name": "stdout",
     "output_type": "stream",
     "text": [
      "[2, 1]\n"
     ]
    }
   ],
   "source": [
    "nums = [3,2,4]\n",
    "target = 6\n",
    "\n",
    "def twoSum(nums,target):\n",
    "    value_to_index_dict={}\n",
    "    for index in range(len(nums)):\n",
    "        complement=target-nums[index]\n",
    "        if complement in value_to_index_dict:\n",
    "            return [index,value_to_index_dict[complement]]\n",
    "        value_to_index_dict[nums[index]]=index\n",
    "    return []\n",
    "\n",
    "print(twoSum(nums,target))\n"
   ]
  },
  {
   "cell_type": "code",
   "execution_count": 8,
   "id": "533b498f",
   "metadata": {},
   "outputs": [],
   "source": [
    "#using enumerate for better readability\n"
   ]
  },
  {
   "cell_type": "code",
   "execution_count": 10,
   "id": "6434e328",
   "metadata": {},
   "outputs": [
    {
     "name": "stdout",
     "output_type": "stream",
     "text": [
      "[2, 1]\n"
     ]
    }
   ],
   "source": [
    "nums = [3,2,4]\n",
    "target = 6\n",
    "\n",
    "def twoSum(nums,target):\n",
    "    value_to_index_dict={}\n",
    "    for index,num in enumerate(nums):\n",
    "        complement=target-num\n",
    "        if complement in value_to_index_dict:\n",
    "            return [index,value_to_index_dict[complement]]\n",
    "        value_to_index_dict[num]=index\n",
    "    return []\n",
    "\n",
    "print(twoSum(nums,target))"
   ]
  }
 ],
 "metadata": {
  "kernelspec": {
   "display_name": ".venv",
   "language": "python",
   "name": "python3"
  },
  "language_info": {
   "codemirror_mode": {
    "name": "ipython",
    "version": 3
   },
   "file_extension": ".py",
   "mimetype": "text/x-python",
   "name": "python",
   "nbconvert_exporter": "python",
   "pygments_lexer": "ipython3",
   "version": "3.13.3"
  }
 },
 "nbformat": 4,
 "nbformat_minor": 5
}
