{
 "cells": [
  {
   "cell_type": "markdown",
   "id": "d8335795",
   "metadata": {},
   "source": [
    "You are given two non-empty linked lists representing two non-negative integers. The digits are stored in reverse order, and each of their nodes contains a single digit. Add the two numbers and return the sum as a linked list.\n",
    "\n",
    "You may assume the two numbers do not contain any leading zero, except the number 0 itself.\n",
    "\n",
    " \n",
    "\n",
    "Example 1:\n",
    "![image](https://assets.leetcode.com/uploads/2020/10/02/addtwonumber1.jpg)\n",
    "\n",
    "\n",
    "Input: l1 = [2,4,3], l2 = [5,6,4]\n",
    "Output: [7,0,8]\n",
    "Explanation: 342 + 465 = 807.\n",
    "Example 2:\n",
    "\n",
    "Input: l1 = [0], l2 = [0]\n",
    "Output: [0]\n",
    "Example 3:\n",
    "\n",
    "Input: l1 = [9,9,9,9,9,9,9], l2 = [9,9,9,9]\n",
    "Output: [8,9,9,9,0,0,0,1]\n",
    " \n",
    "\n",
    "Constraints:\n",
    "\n",
    "The number of nodes in each linked list is in the range [1, 100].\n",
    "0 <= Node.val <= 9\n",
    "It is guaranteed that the list represents a number that does not have leading zeros."
   ]
  },
  {
   "cell_type": "code",
   "execution_count": null,
   "id": "f05c0d3d",
   "metadata": {},
   "outputs": [],
   "source": [
    "l1=[2,4,3]\n",
    "l2=[5,6,4]"
   ]
  },
  {
   "cell_type": "markdown",
   "id": "005dcb6d",
   "metadata": {
    "vscode": {
     "languageId": "plaintext"
    }
   },
   "source": [
    "# Brute Force Approach\n",
    "Traversing one then another "
   ]
  },
  {
   "cell_type": "code",
   "execution_count": 1,
   "id": "e1b59472",
   "metadata": {},
   "outputs": [],
   "source": [
    "class ListNode:\n",
    "    def __init__(self,val=0,next=None):\n",
    "        self.val=val\n",
    "        self.next=next\n",
    "\n",
    "def LinkedListToInt(node):\n",
    "    num=0\n",
    "    place=1\n",
    "    while node:\n",
    "        num=num+node.val*place\n",
    "        place=place*10\n",
    "        node=node.next\n",
    "    return num\n",
    "\n",
    "def IntToLinkedList(num):\n",
    "    dummy_node=ListNode()\n",
    "    current=dummy_node\n",
    "    if num ==0:\n",
    "        return ListNode(0)\n",
    "    else:\n",
    "        while num > 0:\n",
    "            lastdigit=num%10\n",
    "            current.next=ListNode(lastdigit)\n",
    "            current=current.next\n",
    "            num=num//10\n",
    "        return dummy_node.next\n",
    "\n",
    "\n",
    "def addTwoNumbers(l1,l2):\n",
    "    num1=LinkedListToInt(l1)\n",
    "    num2=LinkedListToInt(l2)\n",
    "    total=num1+num2\n",
    "    return IntToLinkedList(total)\n",
    "\n",
    "def print_linked_list(node):\n",
    "    while node:\n",
    "        print(node.val, end=\" -> \" if node.next else \"\")\n",
    "        node = node.next\n",
    "    print()\n",
    "\n",
    "\n"
   ]
  },
  {
   "cell_type": "code",
   "execution_count": 2,
   "id": "4ee32718",
   "metadata": {},
   "outputs": [],
   "source": [
    "def list_to_linked_list(lst):\n",
    "    dummy = ListNode()\n",
    "    current = dummy\n",
    "    for val in lst:\n",
    "        current.next = ListNode(val)\n",
    "        current = current.next\n",
    "    return dummy.next\n",
    "\n",
    "# Creating linked lists from l1 and l2\n",
    "l1 = list_to_linked_list([2, 4, 3])\n",
    "l2 = list_to_linked_list([5, 6, 4])"
   ]
  },
  {
   "cell_type": "code",
   "execution_count": 3,
   "id": "36612b50",
   "metadata": {},
   "outputs": [
    {
     "name": "stdout",
     "output_type": "stream",
     "text": [
      "7 -> 0 -> 8\n"
     ]
    }
   ],
   "source": [
    "result=addTwoNumbers(l1,l2)\n",
    "print_linked_list(result)"
   ]
  }
 ],
 "metadata": {
  "kernelspec": {
   "display_name": ".venv",
   "language": "python",
   "name": "python3"
  },
  "language_info": {
   "codemirror_mode": {
    "name": "ipython",
    "version": 3
   },
   "file_extension": ".py",
   "mimetype": "text/x-python",
   "name": "python",
   "nbconvert_exporter": "python",
   "pygments_lexer": "ipython3",
   "version": "3.13.3"
  }
 },
 "nbformat": 4,
 "nbformat_minor": 5
}
