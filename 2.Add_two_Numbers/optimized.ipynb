{
 "cells": [
  {
   "cell_type": "markdown",
   "id": "4fe01d71",
   "metadata": {},
   "source": [
    "✅ Problem Summary:\n",
    "You are given two non-empty linked lists representing two non-negative integers, where the digits are stored in reverse order. Add the two numbers and return the sum as a linked list.\n",
    "\n",
    "🧠 Approach:\n",
    "Traverse both linked lists simultaneously.\n",
    "\n",
    "Use a carry variable to handle sums that exceed 9.\n",
    "\n",
    "Use a dummy node to easily build the resulting list.\n",
    "\n",
    "Use Python's divmod() function to cleanly get the new digit and updated carry."
   ]
  },
  {
   "cell_type": "code",
   "execution_count": null,
   "id": "7a57e164",
   "metadata": {},
   "outputs": [],
   "source": [
    "def addTwoNumbers(l1,l2):\n",
    "    dummy_node=ListNode()\n",
    "    current=dummy_node\n",
    "    carry=0\n",
    "\n",
    "    while l1 or l2 or carry:\n",
    "        val1=l1.val if l1 else 0\n",
    "        val2=l2.val if l2 else 0\n",
    "\n",
    "        carry,out=divmod(val1+val2+carry,10)\n",
    "        current.next=ListNode(out)\n",
    "        current=current.next\n",
    "\n",
    "        l1=l1.next if l1 else None\n",
    "        l2=l2.next if l2 else None\n",
    "\n",
    "        return dummy_node.next"
   ]
  }
 ],
 "metadata": {
  "kernelspec": {
   "display_name": ".venv",
   "language": "python",
   "name": "python3"
  },
  "language_info": {
   "codemirror_mode": {
    "name": "ipython",
    "version": 3
   },
   "file_extension": ".py",
   "mimetype": "text/x-python",
   "name": "python",
   "nbconvert_exporter": "python",
   "pygments_lexer": "ipython3",
   "version": "3.13.3"
  }
 },
 "nbformat": 4,
 "nbformat_minor": 5
}
